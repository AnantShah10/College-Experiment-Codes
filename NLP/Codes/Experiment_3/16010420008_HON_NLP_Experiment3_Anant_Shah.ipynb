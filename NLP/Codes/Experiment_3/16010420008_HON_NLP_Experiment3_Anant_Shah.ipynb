{
  "nbformat": 4,
  "nbformat_minor": 0,
  "metadata": {
    "colab": {
      "provenance": []
    },
    "kernelspec": {
      "name": "python3",
      "display_name": "Python 3"
    },
    "language_info": {
      "name": "python"
    }
  },
  "cells": [
    {
      "cell_type": "markdown",
      "source": [
        "**Importing necessary libraries**"
      ],
      "metadata": {
        "id": "hWn5T6db2KFo"
      }
    },
    {
      "cell_type": "code",
      "execution_count": 1,
      "metadata": {
        "colab": {
          "base_uri": "https://localhost:8080/"
        },
        "id": "qly8E5-h1eBU",
        "outputId": "ed1ad0e2-df35-436c-901a-7e529e9d8a71"
      },
      "outputs": [
        {
          "output_type": "stream",
          "name": "stderr",
          "text": [
            "[nltk_data] Downloading package punkt to /root/nltk_data...\n",
            "[nltk_data]   Unzipping tokenizers/punkt.zip.\n"
          ]
        }
      ],
      "source": [
        "import pandas as pd\n",
        "import re\n",
        "import nltk\n",
        "nltk.download('punkt')\n",
        "from nltk import word_tokenize\n",
        "from nltk.stem import PorterStemmer , SnowballStemmer , LancasterStemmer , RegexpStemmer"
      ]
    },
    {
      "cell_type": "markdown",
      "source": [
        "**Loading the file and saving in answer_column array**"
      ],
      "metadata": {
        "id": "yqDKiWt92Rhf"
      }
    },
    {
      "cell_type": "code",
      "source": [
        "csv_file = pd.read_csv('/content/Answers.csv')\n",
        "csv_file_column = csv_file[csv_file['Body'].notna()]\n",
        "\n",
        "answer_column = []\n",
        "for i in range(0, 1):\n",
        "    answer_column.append(csv_file_column['Body'][i])"
      ],
      "metadata": {
        "id": "347D3Cpv2YmL"
      },
      "execution_count": 2,
      "outputs": []
    },
    {
      "cell_type": "markdown",
      "source": [
        "**HTML Removal Function**"
      ],
      "metadata": {
        "id": "WKkL6Iln3k9S"
      }
    },
    {
      "cell_type": "code",
      "source": [
        "def html_removal(text):\n",
        "    pattern = r\"<[^>]+>\"\n",
        "    html_removal_text = re.sub(pattern, \"\", text)\n",
        "    return html_removal_text"
      ],
      "metadata": {
        "id": "Iw49IthO3lQF"
      },
      "execution_count": 3,
      "outputs": []
    },
    {
      "cell_type": "markdown",
      "source": [
        "**Porter Stemmer Function**"
      ],
      "metadata": {
        "id": "kdPUQ-k24rV6"
      }
    },
    {
      "cell_type": "code",
      "source": [
        "def porterstemmer(text):\n",
        "    porter = PorterStemmer()\n",
        "    stemmed = []\n",
        "    for i in text:\n",
        "        stemmed.append(porter.stem(i))\n",
        "    return stemmed"
      ],
      "metadata": {
        "id": "GlK5Obsb4rky"
      },
      "execution_count": 4,
      "outputs": []
    },
    {
      "cell_type": "markdown",
      "source": [
        "**Snowball Stemmer Function**"
      ],
      "metadata": {
        "id": "vLHlrsZQ4xrY"
      }
    },
    {
      "cell_type": "code",
      "source": [
        "def snowballstemmer(text):\n",
        "    snowball = SnowballStemmer(language='english')\n",
        "    stemmed = []\n",
        "    for i in text:\n",
        "        stemmed.append(snowball.stem(i))\n",
        "    return stemmed"
      ],
      "metadata": {
        "id": "QmKPp-z64x4D"
      },
      "execution_count": 5,
      "outputs": []
    },
    {
      "cell_type": "markdown",
      "source": [
        "**Lancaster Stemmer Function**"
      ],
      "metadata": {
        "id": "Oj-T4lS65tU_"
      }
    },
    {
      "cell_type": "code",
      "source": [
        "def lancasterstemmer(text):\n",
        "    lancaster = LancasterStemmer()\n",
        "    stemmed = []\n",
        "    for i in text:\n",
        "        stemmed.append(lancaster.stem(i))\n",
        "    return stemmed\n"
      ],
      "metadata": {
        "id": "ZGQK-x_w5thB"
      },
      "execution_count": 6,
      "outputs": []
    },
    {
      "cell_type": "markdown",
      "source": [
        "**Regexp Stemmer Function**"
      ],
      "metadata": {
        "id": "0onatK5u534w"
      }
    },
    {
      "cell_type": "code",
      "source": [
        "def regexpstemmer(text):\n",
        "    regexp = RegexpStemmer('ing$|s$|es$|able$')\n",
        "    stemmed = []\n",
        "    for i in text:\n",
        "        stemmed.append(regexp.stem(i))\n",
        "    return stemmed"
      ],
      "metadata": {
        "id": "vXnHB6z152SW"
      },
      "execution_count": 7,
      "outputs": []
    },
    {
      "cell_type": "markdown",
      "source": [
        "**Calling the functions**"
      ],
      "metadata": {
        "id": "yf5ApGys6D9w"
      }
    },
    {
      "cell_type": "code",
      "source": [
        "for i in answer_column:\n",
        "    html_removal_text = html_removal(i)\n",
        "    print(f\"The original text is: {html_removal_text}.\")\n",
        "    tokens = word_tokenize(html_removal_text)\n",
        "    porterstemmed = porterstemmer(tokens)\n",
        "    print(f\"The text after PorterStemmer stemming is: {porterstemmed}.\")\n",
        "    snowballstemmed = snowballstemmer(tokens)\n",
        "    print(f\"The text after SnowballStemmer stemming is: {snowballstemmed}.\")\n",
        "    lancasterstemmed = lancasterstemmer(tokens)\n",
        "    print(f\"The text after LancasterStemmer stemming is: {lancasterstemmed}.\")\n",
        "    regexpstemmed = regexpstemmer(tokens)\n",
        "    print(f\"The text after RegexpStemmer stemming is: {regexpstemmed}.\")"
      ],
      "metadata": {
        "colab": {
          "base_uri": "https://localhost:8080/"
        },
        "id": "5Npt7wDk6ALl",
        "outputId": "df3a7eba-87d0-426d-f8a1-57d52e31cd74"
      },
      "execution_count": 8,
      "outputs": [
        {
          "output_type": "stream",
          "name": "stdout",
          "text": [
            "The original text is: Version Control with Subversion\r\n",
            "\r\n",
            "A very good resource for source control in general. Not really TortoiseSVN specific, though..\n",
            "The text after PorterStemmer stemming is: ['version', 'control', 'with', 'subvers', 'a', 'veri', 'good', 'resourc', 'for', 'sourc', 'control', 'in', 'gener', '.', 'not', 'realli', 'tortoisesvn', 'specif', ',', 'though', '.'].\n",
            "The text after SnowballStemmer stemming is: ['version', 'control', 'with', 'subvers', 'a', 'veri', 'good', 'resourc', 'for', 'sourc', 'control', 'in', 'general', '.', 'not', 'realli', 'tortoisesvn', 'specif', ',', 'though', '.'].\n",
            "The text after LancasterStemmer stemming is: ['vert', 'control', 'with', 'subvert', 'a', 'very', 'good', 'resourc', 'for', 'sourc', 'control', 'in', 'gen', '.', 'not', 'real', 'tortoisesvn', 'spec', ',', 'though', '.'].\n",
            "The text after RegexpStemmer stemming is: ['Version', 'Control', 'with', 'Subversion', 'A', 'very', 'good', 'resource', 'for', 'source', 'control', 'in', 'general', '.', 'Not', 'really', 'TortoiseSVN', 'specific', ',', 'though', '.'].\n"
          ]
        }
      ]
    }
  ]
}