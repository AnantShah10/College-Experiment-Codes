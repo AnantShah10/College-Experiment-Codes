{
  "nbformat": 4,
  "nbformat_minor": 0,
  "metadata": {
    "colab": {
      "provenance": []
    },
    "kernelspec": {
      "name": "python3",
      "display_name": "Python 3"
    },
    "language_info": {
      "name": "python"
    }
  },
  "cells": [
    {
      "cell_type": "markdown",
      "source": [
        "**Importing necessary libraries**"
      ],
      "metadata": {
        "id": "7LSc0LJPU3Y6"
      }
    },
    {
      "cell_type": "code",
      "execution_count": 7,
      "metadata": {
        "colab": {
          "base_uri": "https://localhost:8080/"
        },
        "id": "SWUK6aS5Rmoj",
        "outputId": "4c7c8790-31f7-486c-e12b-c8a45d061d84"
      },
      "outputs": [
        {
          "output_type": "stream",
          "name": "stderr",
          "text": [
            "[nltk_data] Downloading package punkt to /root/nltk_data...\n",
            "[nltk_data]   Package punkt is already up-to-date!\n"
          ]
        }
      ],
      "source": [
        "import nltk\n",
        "nltk.download('punkt')\n",
        "import nltk.tokenize as nltktoken\n",
        "from textblob import TextBlob as textblob\n",
        "import spacy\n",
        "from gensim.utils import tokenize\n",
        "from keras.preprocessing.text import text_to_word_sequence"
      ]
    },
    {
      "cell_type": "code",
      "source": [
        "unique_sentence = f\"The temperature outside is 20{chr(176)} C🌡, and the wind speed is 15.2 km/h💨.The weather can't be more lovely!\"\n",
        "print(f\"The original sentence is:- {unique_sentence}.\")"
      ],
      "metadata": {
        "colab": {
          "base_uri": "https://localhost:8080/"
        },
        "id": "aWb-DIa5VDDd",
        "outputId": "e38149e7-498b-4a08-f119-0029ab059541"
      },
      "execution_count": 8,
      "outputs": [
        {
          "output_type": "stream",
          "name": "stdout",
          "text": [
            "The original sentence is:- The temperature outside is 20° C🌡, and the wind speed is 15.2 km/h💨.The weather can't be more lovely!.\n"
          ]
        }
      ]
    },
    {
      "cell_type": "markdown",
      "source": [
        "**Split Function**"
      ],
      "metadata": {
        "id": "EIAFkaBOVK7m"
      }
    },
    {
      "cell_type": "code",
      "source": [
        "print(f\"1) Split Function:- \")\n",
        "split_unique_sentence = unique_sentence.split()\n",
        "print(f\"Using Split function: {split_unique_sentence}.\")"
      ],
      "metadata": {
        "colab": {
          "base_uri": "https://localhost:8080/"
        },
        "id": "FwgRIPv8VGPp",
        "outputId": "dfa12fab-5923-4d7f-f250-22904ddda0d2"
      },
      "execution_count": 9,
      "outputs": [
        {
          "output_type": "stream",
          "name": "stdout",
          "text": [
            "1) Split Function:- \n",
            "Using Split function: ['The', 'temperature', 'outside', 'is', '20°', 'C🌡,', 'and', 'the', 'wind', 'speed', 'is', '15.2', 'km/h💨.The', 'weather', \"can't\", 'be', 'more', 'lovely!'].\n"
          ]
        }
      ]
    },
    {
      "cell_type": "markdown",
      "source": [
        "**Natural Language Toolkit Library**"
      ],
      "metadata": {
        "id": "4H_NPlC3VcHS"
      }
    },
    {
      "cell_type": "code",
      "source": [
        "print(f\"2) Natural Language Toolkit (NLTK) Library:- \")\n",
        "word_unique_sentence = nltktoken.word_tokenize(unique_sentence)\n",
        "print(f\"Using Word Tokenize Function: {word_unique_sentence}.\")\n",
        "\n",
        "sentence_unique_sentence = nltktoken.sent_tokenize(unique_sentence)\n",
        "print(f\"Using Sentence Tokenize Function: {sentence_unique_sentence}.\")\n",
        "\n",
        "tweet_unique_sentence = nltktoken.TweetTokenizer().tokenize(unique_sentence)\n",
        "print(f\"Using Tweet Tokenize Function: {tweet_unique_sentence}.\")\n",
        "\n",
        "wordpunct_unique_sentence = nltktoken.wordpunct_tokenize(unique_sentence)\n",
        "print(f\"Using Word Punct Function: {wordpunct_unique_sentence}.\")\n",
        "\n",
        "multitoken_unique_sentence = nltktoken.MWETokenizer([('29', '°', 'C', '🌡'), ('15.2', 'km', '/', 'h', '💨')]).tokenize(unique_sentence.split())\n",
        "print(f\"Using Multi Word Expression Function: {multitoken_unique_sentence}.\")"
      ],
      "metadata": {
        "colab": {
          "base_uri": "https://localhost:8080/"
        },
        "id": "WVCHFks3VWfq",
        "outputId": "894a1538-e114-4709-c29b-fe5b9dd2f00a"
      },
      "execution_count": 10,
      "outputs": [
        {
          "output_type": "stream",
          "name": "stdout",
          "text": [
            "2) Natural Language Toolkit (NLTK) Library:- \n",
            "Using Word Tokenize Function: ['The', 'temperature', 'outside', 'is', '20°', 'C🌡', ',', 'and', 'the', 'wind', 'speed', 'is', '15.2', 'km/h💨.The', 'weather', 'ca', \"n't\", 'be', 'more', 'lovely', '!'].\n",
            "Using Sentence Tokenize Function: [\"The temperature outside is 20° C🌡, and the wind speed is 15.2 km/h💨.The weather can't be more lovely!\"].\n",
            "Using Tweet Tokenize Function: ['The', 'temperature', 'outside', 'is', '20', '°', 'C', '🌡', ',', 'and', 'the', 'wind', 'speed', 'is', '15.2', 'km', '/', 'h', '💨', '.', 'The', 'weather', \"can't\", 'be', 'more', 'lovely', '!'].\n",
            "Using Word Punct Function: ['The', 'temperature', 'outside', 'is', '20', '°', 'C', '🌡,', 'and', 'the', 'wind', 'speed', 'is', '15', '.', '2', 'km', '/', 'h', '💨.', 'The', 'weather', 'can', \"'\", 't', 'be', 'more', 'lovely', '!'].\n",
            "Using Multi Word Expression Function: ['The', 'temperature', 'outside', 'is', '20°', 'C🌡,', 'and', 'the', 'wind', 'speed', 'is', '15.2', 'km/h💨.The', 'weather', \"can't\", 'be', 'more', 'lovely!'].\n"
          ]
        }
      ]
    },
    {
      "cell_type": "markdown",
      "source": [
        "**Textblob Library**"
      ],
      "metadata": {
        "id": "6He2zHG4Vmum"
      }
    },
    {
      "cell_type": "code",
      "source": [
        "print(f\"3) Textblob Library:- \")\n",
        "textblob_words_unique_sentence = textblob(unique_sentence).words\n",
        "print(f\"Using Textblob Words Function: {textblob_words_unique_sentence}.\")"
      ],
      "metadata": {
        "colab": {
          "base_uri": "https://localhost:8080/"
        },
        "id": "6H-ueGD-VkFg",
        "outputId": "570f0458-cdaa-40a7-ea84-ebbe55096e6b"
      },
      "execution_count": 11,
      "outputs": [
        {
          "output_type": "stream",
          "name": "stdout",
          "text": [
            "3) Textblob Library:- \n",
            "Using Textblob Words Function: ['The', 'temperature', 'outside', 'is', '20°', 'C🌡', 'and', 'the', 'wind', 'speed', 'is', '15.2', 'km/h💨.The', 'weather', 'ca', \"n't\", 'be', 'more', 'lovely'].\n"
          ]
        }
      ]
    },
    {
      "cell_type": "markdown",
      "source": [
        "**Spacy Library**"
      ],
      "metadata": {
        "id": "zhNcFvT_VuTe"
      }
    },
    {
      "cell_type": "code",
      "source": [
        "print(f\"4) Spacy Library:- \")\n",
        "spacy_unique_sentence = list(spacy.blank(\"en\")(unique_sentence))\n",
        "print(f\"Using Spacy Function: {spacy_unique_sentence}\")"
      ],
      "metadata": {
        "colab": {
          "base_uri": "https://localhost:8080/"
        },
        "id": "dlaY9hH5Vqh2",
        "outputId": "6c49c760-d341-4cdf-de21-460ea9a3907f"
      },
      "execution_count": 12,
      "outputs": [
        {
          "output_type": "stream",
          "name": "stdout",
          "text": [
            "4) Spacy Library:- \n",
            "Using Spacy Function: [The, temperature, outside, is, 20, °, C, 🌡, ,, and, the, wind, speed, is, 15.2, km, /, h, 💨, .The, weather, ca, n't, be, more, lovely, !]\n"
          ]
        }
      ]
    },
    {
      "cell_type": "markdown",
      "source": [
        "**Gensim Library**"
      ],
      "metadata": {
        "id": "h1sp_LpeVzYz"
      }
    },
    {
      "cell_type": "code",
      "source": [
        "print(f\"5) Gensim Library:- \")\n",
        "gensim_unique_sentence = list(tokenize(unique_sentence))\n",
        "print(f\"Using Gensim Tokenize Function: {gensim_unique_sentence}\")"
      ],
      "metadata": {
        "colab": {
          "base_uri": "https://localhost:8080/"
        },
        "id": "X1rmoAdEVxRZ",
        "outputId": "5b364c27-cb85-4b56-d87e-c7b3ace91952"
      },
      "execution_count": 13,
      "outputs": [
        {
          "output_type": "stream",
          "name": "stdout",
          "text": [
            "5) Gensim Library:- \n",
            "Using Gensim Tokenize Function: ['The', 'temperature', 'outside', 'is', 'C', 'and', 'the', 'wind', 'speed', 'is', 'km', 'h', 'The', 'weather', 'can', 't', 'be', 'more', 'lovely']\n"
          ]
        }
      ]
    },
    {
      "cell_type": "markdown",
      "source": [
        "**Keras Library**"
      ],
      "metadata": {
        "id": "ki6HaMJ7V4GW"
      }
    },
    {
      "cell_type": "code",
      "source": [
        "print(f\"6) Keras Library:- \")\n",
        "keras_unique_sentence = text_to_word_sequence(unique_sentence)\n",
        "print(f\"Using Keras Tokenize Function: {keras_unique_sentence}\")"
      ],
      "metadata": {
        "colab": {
          "base_uri": "https://localhost:8080/"
        },
        "id": "FGuPRU6oV2Yd",
        "outputId": "8e6ff72b-f97f-41fc-fa57-83885e12b66f"
      },
      "execution_count": 14,
      "outputs": [
        {
          "output_type": "stream",
          "name": "stdout",
          "text": [
            "6) Keras Library:- \n",
            "Using Keras Tokenize Function: ['the', 'temperature', 'outside', 'is', '20°', 'c🌡', 'and', 'the', 'wind', 'speed', 'is', '15', '2', 'km', 'h💨', 'the', 'weather', \"can't\", 'be', 'more', 'lovely']\n"
          ]
        }
      ]
    },
    {
      "cell_type": "markdown",
      "source": [
        "**Postlab**"
      ],
      "metadata": {
        "id": "9La-5qOBdt5m"
      }
    },
    {
      "cell_type": "code",
      "source": [
        "import nltk\n",
        "from nltk.tokenize import RegexpTokenizer\n",
        "text = \"The regex pattern \\d{3}-\\d{2}-\\d{4}, matches social security numbers in the format 123-45-6789.\"\n",
        "tokenizer = RegexpTokenizer(r'\\w+')\n",
        "tokens = tokenizer.tokenize(text)\n",
        "print(tokens)"
      ],
      "metadata": {
        "colab": {
          "base_uri": "https://localhost:8080/"
        },
        "id": "TH0FTioVdwnI",
        "outputId": "52c20644-0495-4717-b218-c4f42dda46df"
      },
      "execution_count": 15,
      "outputs": [
        {
          "output_type": "stream",
          "name": "stdout",
          "text": [
            "['The', 'regex', 'pattern', 'd', '3', 'd', '2', 'd', '4', 'matches', 'social', 'security', 'numbers', 'in', 'the', 'format', '123', '45', '6789']\n"
          ]
        }
      ]
    }
  ]
}