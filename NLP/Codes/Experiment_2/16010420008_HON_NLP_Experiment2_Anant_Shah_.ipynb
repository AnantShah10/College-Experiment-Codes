{
  "nbformat": 4,
  "nbformat_minor": 0,
  "metadata": {
    "colab": {
      "provenance": []
    },
    "kernelspec": {
      "name": "python3",
      "display_name": "Python 3"
    },
    "language_info": {
      "name": "python"
    }
  },
  "cells": [
    {
      "cell_type": "markdown",
      "source": [
        "**Importing necessary libraries**"
      ],
      "metadata": {
        "id": "IgT_5WRyvlso"
      }
    },
    {
      "cell_type": "code",
      "execution_count": 1,
      "metadata": {
        "colab": {
          "base_uri": "https://localhost:8080/"
        },
        "id": "WB4IbfiuvDa0",
        "outputId": "25b7f35c-da72-4e65-fe54-859bf845a57b"
      },
      "outputs": [
        {
          "output_type": "stream",
          "name": "stderr",
          "text": [
            "[nltk_data] Downloading package punkt to /root/nltk_data...\n",
            "[nltk_data]   Package punkt is already up-to-date!\n",
            "[nltk_data] Downloading package stopwords to /root/nltk_data...\n",
            "[nltk_data]   Package stopwords is already up-to-date!\n"
          ]
        }
      ],
      "source": [
        "import pandas as pd\n",
        "import nltk\n",
        "from nltk.corpus import stopwords\n",
        "import string\n",
        "import re\n",
        "nltk.download('punkt')\n",
        "nltk.download('stopwords')\n",
        "from nltk import word_tokenize"
      ]
    },
    {
      "cell_type": "markdown",
      "source": [
        "**Stopwords Removal function**"
      ],
      "metadata": {
        "id": "3gk6mrUsvywR"
      }
    },
    {
      "cell_type": "code",
      "source": [
        "def stopwords_removal(stopwords, token_words):\n",
        "    stopwords = stopwords.words(\"english\")\n",
        "    stopwords.append(\"ies\")\n",
        "    stopwords.append(\"ed\")\n",
        "    stopwords_removal_tokens = [token for token in token_words if token.lower() not in stopwords]\n",
        "    return stopwords_removal_tokens"
      ],
      "metadata": {
        "id": "z5uSHBT1vvPb"
      },
      "execution_count": 2,
      "outputs": []
    },
    {
      "cell_type": "markdown",
      "source": [
        "**Punctions Removal function**"
      ],
      "metadata": {
        "id": "Ea7AaWJev6Uq"
      }
    },
    {
      "cell_type": "code",
      "source": [
        "def punctuations_removal(token_words):\n",
        "    punctuations_removal_tokens = [token for token in token_words if token not in string.punctuation]\n",
        "    return punctuations_removal_tokens"
      ],
      "metadata": {
        "id": "LHq4qLnCv3ly"
      },
      "execution_count": 3,
      "outputs": []
    },
    {
      "cell_type": "markdown",
      "source": [
        "**Whitespace Removal function**"
      ],
      "metadata": {
        "id": "gEnNnReJwGP1"
      }
    },
    {
      "cell_type": "code",
      "source": [
        "def whitespace_removal(text):\n",
        "    text = text.strip()\n",
        "    whitespace_removal_text = \" \".join(text.split())\n",
        "    return text"
      ],
      "metadata": {
        "id": "08TCj8d8wCaG"
      },
      "execution_count": 4,
      "outputs": []
    },
    {
      "cell_type": "markdown",
      "source": [
        "**Url Removal function**"
      ],
      "metadata": {
        "id": "Zp8ryiixwY8I"
      }
    },
    {
      "cell_type": "code",
      "source": [
        "def url_removal(text):\n",
        "    pattern = r\"(http|ftp|https)://([\\w_-]+(?:(?:\\.[\\w_-]+)+))([\\w.,@?^=%&:/~+#-]*[\\w@?^=%&/~+#-])?\"\n",
        "    url_removal_text = re.sub(pattern, \"\", text)\n",
        "    return url_removal_text"
      ],
      "metadata": {
        "id": "94WjFdXYwVSS"
      },
      "execution_count": 5,
      "outputs": []
    },
    {
      "cell_type": "markdown",
      "source": [
        "**HTML Removal function**"
      ],
      "metadata": {
        "id": "hslcRdFdwgn4"
      }
    },
    {
      "cell_type": "code",
      "source": [
        "def html_removal(text):\n",
        "    pattern = r\"<[^>]+>\"\n",
        "    html_removal_text = re.sub(pattern, \"\", text)\n",
        "    return html_removal_text"
      ],
      "metadata": {
        "id": "krmn8d_iwdq9"
      },
      "execution_count": 6,
      "outputs": []
    },
    {
      "cell_type": "markdown",
      "source": [
        "**Loading the file and saving in answer_column array**"
      ],
      "metadata": {
        "id": "Tij_x_EbwmKc"
      }
    },
    {
      "cell_type": "code",
      "source": [
        "csv_file = pd.read_csv('/content/Answers.csv')\n",
        "csv_file_column = csv_file[csv_file['Body'].notna()]\n",
        "\n",
        "answer_column = []\n",
        "for i in range(0, 10):\n",
        "    answer_column.append(csv_file_column['Body'][i])"
      ],
      "metadata": {
        "id": "MuUa0w_cwi3d"
      },
      "execution_count": 7,
      "outputs": []
    },
    {
      "cell_type": "markdown",
      "source": [
        "**Calling the functions**"
      ],
      "metadata": {
        "id": "cd7ZkuiKwsbq"
      }
    },
    {
      "cell_type": "code",
      "source": [
        "for i in answer_column:\n",
        "    print(f\"This is Statement{answer_column.index(i) + 1}: \\n\")\n",
        "    print(f\"The original text is: {i}.\\n\")\n",
        "    html_removal_text = html_removal(i)\n",
        "    print(f\"The text after removal of html code is: {html_removal_text}\\n\")\n",
        "    whitespace_removal_text = whitespace_removal(html_removal_text)\n",
        "    print(f\"The text after removal of white spaces is: {whitespace_removal_text}\\n\")\n",
        "    url_removal_text = url_removal(whitespace_removal_text)\n",
        "    print(f\"The text after removal of urls is: {url_removal_text}\\n\")\n",
        "    tokens = word_tokenize(url_removal_text)\n",
        "    stopwords_removal_tokens = stopwords_removal(stopwords, tokens)\n",
        "    print(f\"The text after removal of stop words is: {stopwords_removal_tokens}\\n\")\n",
        "    punctuations_removal_tokens = punctuations_removal(stopwords_removal_tokens)\n",
        "    print(f\"The text after removal of urls is: {punctuations_removal_tokens}\\n\\n\\n\\n\\n\")"
      ],
      "metadata": {
        "colab": {
          "base_uri": "https://localhost:8080/"
        },
        "id": "ks18ukJAwrlo",
        "outputId": "de829301-a83d-4207-caf6-4ea8aaf17de5"
      },
      "execution_count": 8,
      "outputs": [
        {
          "output_type": "stream",
          "name": "stdout",
          "text": [
            "This is Statement1: \n",
            "\n",
            "The original text is: <p><a href=\"http://svnbook.red-bean.com/\">Version Control with Subversion</a></p>\r\n",
            "\r\n",
            "<p>A very good resource for source control in general. Not really TortoiseSVN specific, though.</p>.\n",
            "\n",
            "The text after removal of html code is: Version Control with Subversion\r\n",
            "\r\n",
            "A very good resource for source control in general. Not really TortoiseSVN specific, though.\n",
            "\n",
            "The text after removal of white spaces is: Version Control with Subversion\r\n",
            "\r\n",
            "A very good resource for source control in general. Not really TortoiseSVN specific, though.\n",
            "\n",
            "The text after removal of urls is: Version Control with Subversion\r\n",
            "\r\n",
            "A very good resource for source control in general. Not really TortoiseSVN specific, though.\n",
            "\n",
            "The text after removal of stop words is: ['Version', 'Control', 'Subversion', 'good', 'resource', 'source', 'control', 'general', '.', 'really', 'TortoiseSVN', 'specific', ',', 'though', '.']\n",
            "\n",
            "The text after removal of urls is: ['Version', 'Control', 'Subversion', 'good', 'resource', 'source', 'control', 'general', 'really', 'TortoiseSVN', 'specific', 'though']\n",
            "\n",
            "\n",
            "\n",
            "\n",
            "\n",
            "This is Statement2: \n",
            "\n",
            "The original text is: <p>I wound up using this. It is a kind of a hack, but it actually works pretty well. The only thing is you have to be very careful with your semicolons. : D</p>\n",
            "\n",
            "<pre><code>var strSql:String = stream.readUTFBytes(stream.bytesAvailable);      \n",
            "var i:Number = 0;\n",
            "var strSqlSplit:Array = strSql.split(\";\");\n",
            "for (i = 0; i &lt; strSqlSplit.length; i++){\n",
            "    NonQuery(strSqlSplit[i].toString());\n",
            "}\n",
            "</code></pre>\n",
            ".\n",
            "\n",
            "The text after removal of html code is: I wound up using this. It is a kind of a hack, but it actually works pretty well. The only thing is you have to be very careful with your semicolons. : D\n",
            "\n",
            "var strSql:String = stream.readUTFBytes(stream.bytesAvailable);      \n",
            "var i:Number = 0;\n",
            "var strSqlSplit:Array = strSql.split(\";\");\n",
            "for (i = 0; i &lt; strSqlSplit.length; i++){\n",
            "    NonQuery(strSqlSplit[i].toString());\n",
            "}\n",
            "\n",
            "\n",
            "\n",
            "The text after removal of white spaces is: I wound up using this. It is a kind of a hack, but it actually works pretty well. The only thing is you have to be very careful with your semicolons. : D\n",
            "\n",
            "var strSql:String = stream.readUTFBytes(stream.bytesAvailable);      \n",
            "var i:Number = 0;\n",
            "var strSqlSplit:Array = strSql.split(\";\");\n",
            "for (i = 0; i &lt; strSqlSplit.length; i++){\n",
            "    NonQuery(strSqlSplit[i].toString());\n",
            "}\n",
            "\n",
            "The text after removal of urls is: I wound up using this. It is a kind of a hack, but it actually works pretty well. The only thing is you have to be very careful with your semicolons. : D\n",
            "\n",
            "var strSql:String = stream.readUTFBytes(stream.bytesAvailable);      \n",
            "var i:Number = 0;\n",
            "var strSqlSplit:Array = strSql.split(\";\");\n",
            "for (i = 0; i &lt; strSqlSplit.length; i++){\n",
            "    NonQuery(strSqlSplit[i].toString());\n",
            "}\n",
            "\n",
            "The text after removal of stop words is: ['wound', 'using', '.', 'kind', 'hack', ',', 'actually', 'works', 'pretty', 'well', '.', 'thing', 'careful', 'semicolons', '.', ':', 'var', 'strSql', ':', 'String', '=', 'stream.readUTFBytes', '(', 'stream.bytesAvailable', ')', ';', 'var', ':', 'Number', '=', '0', ';', 'var', 'strSqlSplit', ':', 'Array', '=', 'strSql.split', '(', '``', ';', \"''\", ')', ';', '(', '=', '0', ';', '&', 'lt', ';', 'strSqlSplit.length', ';', 'i++', ')', '{', 'NonQuery', '(', 'strSqlSplit', '[', ']', '.toString', '(', ')', ')', ';', '}']\n",
            "\n",
            "The text after removal of urls is: ['wound', 'using', 'kind', 'hack', 'actually', 'works', 'pretty', 'well', 'thing', 'careful', 'semicolons', 'var', 'strSql', 'String', 'stream.readUTFBytes', 'stream.bytesAvailable', 'var', 'Number', '0', 'var', 'strSqlSplit', 'Array', 'strSql.split', '``', \"''\", '0', 'lt', 'strSqlSplit.length', 'i++', 'NonQuery', 'strSqlSplit', '.toString']\n",
            "\n",
            "\n",
            "\n",
            "\n",
            "\n",
            "This is Statement3: \n",
            "\n",
            "The original text is: <p>I've read somewhere the human eye can't distinguish between less than 4 values apart. so This is something to keep in mind. The following algorithm does not compensate for this.</p>\r\n",
            "\r\n",
            "<p>I'm not sure this is exactly what you want, but this is one way to randomly generate non-repeating color values:</p>\r\n",
            "\r\n",
            "<p>(beware, inconsistent pseudo-code ahead)</p>\r\n",
            "\r\n",
            "<pre><code>//colors entered as 0-255 [R, G, B]<br>colors = []; //holds final colors to be used<br>rand = new Random();<br><br>//assumes n is less than 16,777,216<br>randomGen(int n){<br>   while (len(colors) &lt; n){<br>      //generate a random number between 0,255 for each color<br>      newRed = rand.next(256);<br>      newGreen = rand.next(256);<br>      newBlue = rand.next(256);<br>      temp = [newRed, newGreen, newBlue];<br>      //only adds new colors to the array<br>      if temp not in colors {<br>         colors.append(temp);<br>      }<br>   }<br>}<br></code></pre>\r\n",
            "\r\n",
            "<p>One way you could optimize this for better visibility would be to compare the distance between each new color and all the colors in the array:</p>\r\n",
            "\r\n",
            "<pre><code>for item in color{<br>   itemSq = (item[0]^2 + item[1]^2 + item[2]^2])^(.5);<br>   tempSq = (temp[0]^2 + temp[1]^2 + temp[2]^2])^(.5);<br>   dist = itemSq - tempSq;<br>   dist = abs(dist);<br>}<br>//NUMBER can be your chosen distance apart.<br>if dist &lt; NUMBER and temp not in colors {<br>   colors.append(temp);<br>}<br></code></pre>\r\n",
            "\r\n",
            "<p>But this approach would significantly slow down your algorithm.</p>\r\n",
            "\r\n",
            "<p>Another way would be to scrap the randomness and systematically go through every 4 values and add a color to an array in the above example.</p>.\n",
            "\n",
            "The text after removal of html code is: I've read somewhere the human eye can't distinguish between less than 4 values apart. so This is something to keep in mind. The following algorithm does not compensate for this.\r\n",
            "\r\n",
            "I'm not sure this is exactly what you want, but this is one way to randomly generate non-repeating color values:\r\n",
            "\r\n",
            "(beware, inconsistent pseudo-code ahead)\r\n",
            "\r\n",
            "//colors entered as 0-255 [R, G, B]colors = []; //holds final colors to be usedrand = new Random();//assumes n is less than 16,777,216randomGen(int n){   while (len(colors) &lt; n){      //generate a random number between 0,255 for each color      newRed = rand.next(256);      newGreen = rand.next(256);      newBlue = rand.next(256);      temp = [newRed, newGreen, newBlue];      //only adds new colors to the array      if temp not in colors {         colors.append(temp);      }   }}\r\n",
            "\r\n",
            "One way you could optimize this for better visibility would be to compare the distance between each new color and all the colors in the array:\r\n",
            "\r\n",
            "for item in color{   itemSq = (item[0]^2 + item[1]^2 + item[2]^2])^(.5);   tempSq = (temp[0]^2 + temp[1]^2 + temp[2]^2])^(.5);   dist = itemSq - tempSq;   dist = abs(dist);}//NUMBER can be your chosen distance apart.if dist &lt; NUMBER and temp not in colors {   colors.append(temp);}\r\n",
            "\r\n",
            "But this approach would significantly slow down your algorithm.\r\n",
            "\r\n",
            "Another way would be to scrap the randomness and systematically go through every 4 values and add a color to an array in the above example.\n",
            "\n",
            "The text after removal of white spaces is: I've read somewhere the human eye can't distinguish between less than 4 values apart. so This is something to keep in mind. The following algorithm does not compensate for this.\r\n",
            "\r\n",
            "I'm not sure this is exactly what you want, but this is one way to randomly generate non-repeating color values:\r\n",
            "\r\n",
            "(beware, inconsistent pseudo-code ahead)\r\n",
            "\r\n",
            "//colors entered as 0-255 [R, G, B]colors = []; //holds final colors to be usedrand = new Random();//assumes n is less than 16,777,216randomGen(int n){   while (len(colors) &lt; n){      //generate a random number between 0,255 for each color      newRed = rand.next(256);      newGreen = rand.next(256);      newBlue = rand.next(256);      temp = [newRed, newGreen, newBlue];      //only adds new colors to the array      if temp not in colors {         colors.append(temp);      }   }}\r\n",
            "\r\n",
            "One way you could optimize this for better visibility would be to compare the distance between each new color and all the colors in the array:\r\n",
            "\r\n",
            "for item in color{   itemSq = (item[0]^2 + item[1]^2 + item[2]^2])^(.5);   tempSq = (temp[0]^2 + temp[1]^2 + temp[2]^2])^(.5);   dist = itemSq - tempSq;   dist = abs(dist);}//NUMBER can be your chosen distance apart.if dist &lt; NUMBER and temp not in colors {   colors.append(temp);}\r\n",
            "\r\n",
            "But this approach would significantly slow down your algorithm.\r\n",
            "\r\n",
            "Another way would be to scrap the randomness and systematically go through every 4 values and add a color to an array in the above example.\n",
            "\n",
            "The text after removal of urls is: I've read somewhere the human eye can't distinguish between less than 4 values apart. so This is something to keep in mind. The following algorithm does not compensate for this.\r\n",
            "\r\n",
            "I'm not sure this is exactly what you want, but this is one way to randomly generate non-repeating color values:\r\n",
            "\r\n",
            "(beware, inconsistent pseudo-code ahead)\r\n",
            "\r\n",
            "//colors entered as 0-255 [R, G, B]colors = []; //holds final colors to be usedrand = new Random();//assumes n is less than 16,777,216randomGen(int n){   while (len(colors) &lt; n){      //generate a random number between 0,255 for each color      newRed = rand.next(256);      newGreen = rand.next(256);      newBlue = rand.next(256);      temp = [newRed, newGreen, newBlue];      //only adds new colors to the array      if temp not in colors {         colors.append(temp);      }   }}\r\n",
            "\r\n",
            "One way you could optimize this for better visibility would be to compare the distance between each new color and all the colors in the array:\r\n",
            "\r\n",
            "for item in color{   itemSq = (item[0]^2 + item[1]^2 + item[2]^2])^(.5);   tempSq = (temp[0]^2 + temp[1]^2 + temp[2]^2])^(.5);   dist = itemSq - tempSq;   dist = abs(dist);}//NUMBER can be your chosen distance apart.if dist &lt; NUMBER and temp not in colors {   colors.append(temp);}\r\n",
            "\r\n",
            "But this approach would significantly slow down your algorithm.\r\n",
            "\r\n",
            "Another way would be to scrap the randomness and systematically go through every 4 values and add a color to an array in the above example.\n",
            "\n",
            "The text after removal of stop words is: [\"'ve\", 'read', 'somewhere', 'human', 'eye', 'ca', \"n't\", 'distinguish', 'less', '4', 'values', 'apart', '.', 'something', 'keep', 'mind', '.', 'following', 'algorithm', 'compensate', '.', \"'m\", 'sure', 'exactly', 'want', ',', 'one', 'way', 'randomly', 'generate', 'non-repeating', 'color', 'values', ':', '(', 'beware', ',', 'inconsistent', 'pseudo-code', 'ahead', ')', '//colors', 'entered', '0-255', '[', 'R', ',', 'G', ',', 'B', ']', 'colors', '=', '[', ']', ';', '//holds', 'final', 'colors', 'usedrand', '=', 'new', 'Random', '(', ')', ';', '//assumes', 'n', 'less', '16,777,216randomGen', '(', 'int', 'n', ')', '{', '(', 'len', '(', 'colors', ')', '&', 'lt', ';', 'n', ')', '{', '//generate', 'random', 'number', '0,255', 'color', 'newRed', '=', 'rand.next', '(', '256', ')', ';', 'newGreen', '=', 'rand.next', '(', '256', ')', ';', 'newBlue', '=', 'rand.next', '(', '256', ')', ';', 'temp', '=', '[', 'newRed', ',', 'newGreen', ',', 'newBlue', ']', ';', '//only', 'adds', 'new', 'colors', 'array', 'temp', 'colors', '{', 'colors.append', '(', 'temp', ')', ';', '}', '}', '}', 'One', 'way', 'could', 'optimize', 'better', 'visibility', 'would', 'compare', 'distance', 'new', 'color', 'colors', 'array', ':', 'item', 'color', '{', 'itemSq', '=', '(', 'item', '[', '0', ']', '^2', '+', 'item', '[', '1', ']', '^2', '+', 'item', '[', '2', ']', '^2', ']', ')', '^', '(', '.5', ')', ';', 'tempSq', '=', '(', 'temp', '[', '0', ']', '^2', '+', 'temp', '[', '1', ']', '^2', '+', 'temp', '[', '2', ']', '^2', ']', ')', '^', '(', '.5', ')', ';', 'dist', '=', 'itemSq', '-', 'tempSq', ';', 'dist', '=', 'abs', '(', 'dist', ')', ';', '}', '//NUMBER', 'chosen', 'distance', 'apart.if', 'dist', '&', 'lt', ';', 'NUMBER', 'temp', 'colors', '{', 'colors.append', '(', 'temp', ')', ';', '}', 'approach', 'would', 'significantly', 'slow', 'algorithm', '.', 'Another', 'way', 'would', 'scrap', 'randomness', 'systematically', 'go', 'every', '4', 'values', 'add', 'color', 'array', 'example', '.']\n",
            "\n",
            "The text after removal of urls is: [\"'ve\", 'read', 'somewhere', 'human', 'eye', 'ca', \"n't\", 'distinguish', 'less', '4', 'values', 'apart', 'something', 'keep', 'mind', 'following', 'algorithm', 'compensate', \"'m\", 'sure', 'exactly', 'want', 'one', 'way', 'randomly', 'generate', 'non-repeating', 'color', 'values', 'beware', 'inconsistent', 'pseudo-code', 'ahead', '//colors', 'entered', '0-255', 'R', 'G', 'B', 'colors', '//holds', 'final', 'colors', 'usedrand', 'new', 'Random', '//assumes', 'n', 'less', '16,777,216randomGen', 'int', 'n', 'len', 'colors', 'lt', 'n', '//generate', 'random', 'number', '0,255', 'color', 'newRed', 'rand.next', '256', 'newGreen', 'rand.next', '256', 'newBlue', 'rand.next', '256', 'temp', 'newRed', 'newGreen', 'newBlue', '//only', 'adds', 'new', 'colors', 'array', 'temp', 'colors', 'colors.append', 'temp', 'One', 'way', 'could', 'optimize', 'better', 'visibility', 'would', 'compare', 'distance', 'new', 'color', 'colors', 'array', 'item', 'color', 'itemSq', 'item', '0', '^2', 'item', '1', '^2', 'item', '2', '^2', '.5', 'tempSq', 'temp', '0', '^2', 'temp', '1', '^2', 'temp', '2', '^2', '.5', 'dist', 'itemSq', 'tempSq', 'dist', 'abs', 'dist', '//NUMBER', 'chosen', 'distance', 'apart.if', 'dist', 'lt', 'NUMBER', 'temp', 'colors', 'colors.append', 'temp', 'approach', 'would', 'significantly', 'slow', 'algorithm', 'Another', 'way', 'would', 'scrap', 'randomness', 'systematically', 'go', 'every', '4', 'values', 'add', 'color', 'array', 'example']\n",
            "\n",
            "\n",
            "\n",
            "\n",
            "\n",
            "This is Statement4: \n",
            "\n",
            "The original text is: <p>Yes, I thought about that, but I soon figured out that another Domain-Specific-Language (DSL) would be a bit too much.</p>\n",
            "\n",
            "<p>Essentially, they need to interact with my gamestate in possibly unpredictable ways. For example, a card could have a rule \"When this cards enter play, all your undead minions gain +3 attack against flying enemies, except when the enemy is blessed\". As trading card games are turn based, the GameState Manager will fire OnStageX events and let the cards modify other cards or the GameState in whatever way the card needs.</p>\n",
            "\n",
            "<p>If I try to create a DSL, I have to implement a rather large feature set and possibly constantly update it, which shifts the maintenance work to another part without actually removing it.</p>\n",
            "\n",
            "<p>That's why I wanted to stay with a \"real\" .NET language to essentially be able to just fire the event and let the card manipulate the gamestate in whatever way (within the limits of the code access security).</p>\n",
            ".\n",
            "\n",
            "The text after removal of html code is: Yes, I thought about that, but I soon figured out that another Domain-Specific-Language (DSL) would be a bit too much.\n",
            "\n",
            "Essentially, they need to interact with my gamestate in possibly unpredictable ways. For example, a card could have a rule \"When this cards enter play, all your undead minions gain +3 attack against flying enemies, except when the enemy is blessed\". As trading card games are turn based, the GameState Manager will fire OnStageX events and let the cards modify other cards or the GameState in whatever way the card needs.\n",
            "\n",
            "If I try to create a DSL, I have to implement a rather large feature set and possibly constantly update it, which shifts the maintenance work to another part without actually removing it.\n",
            "\n",
            "That's why I wanted to stay with a \"real\" .NET language to essentially be able to just fire the event and let the card manipulate the gamestate in whatever way (within the limits of the code access security).\n",
            "\n",
            "\n",
            "The text after removal of white spaces is: Yes, I thought about that, but I soon figured out that another Domain-Specific-Language (DSL) would be a bit too much.\n",
            "\n",
            "Essentially, they need to interact with my gamestate in possibly unpredictable ways. For example, a card could have a rule \"When this cards enter play, all your undead minions gain +3 attack against flying enemies, except when the enemy is blessed\". As trading card games are turn based, the GameState Manager will fire OnStageX events and let the cards modify other cards or the GameState in whatever way the card needs.\n",
            "\n",
            "If I try to create a DSL, I have to implement a rather large feature set and possibly constantly update it, which shifts the maintenance work to another part without actually removing it.\n",
            "\n",
            "That's why I wanted to stay with a \"real\" .NET language to essentially be able to just fire the event and let the card manipulate the gamestate in whatever way (within the limits of the code access security).\n",
            "\n",
            "The text after removal of urls is: Yes, I thought about that, but I soon figured out that another Domain-Specific-Language (DSL) would be a bit too much.\n",
            "\n",
            "Essentially, they need to interact with my gamestate in possibly unpredictable ways. For example, a card could have a rule \"When this cards enter play, all your undead minions gain +3 attack against flying enemies, except when the enemy is blessed\". As trading card games are turn based, the GameState Manager will fire OnStageX events and let the cards modify other cards or the GameState in whatever way the card needs.\n",
            "\n",
            "If I try to create a DSL, I have to implement a rather large feature set and possibly constantly update it, which shifts the maintenance work to another part without actually removing it.\n",
            "\n",
            "That's why I wanted to stay with a \"real\" .NET language to essentially be able to just fire the event and let the card manipulate the gamestate in whatever way (within the limits of the code access security).\n",
            "\n",
            "The text after removal of stop words is: ['Yes', ',', 'thought', ',', 'soon', 'figured', 'another', 'Domain-Specific-Language', '(', 'DSL', ')', 'would', 'bit', 'much', '.', 'Essentially', ',', 'need', 'interact', 'gamestate', 'possibly', 'unpredictable', 'ways', '.', 'example', ',', 'card', 'could', 'rule', '``', 'cards', 'enter', 'play', ',', 'undead', 'minions', 'gain', '+3', 'attack', 'flying', 'enemies', ',', 'except', 'enemy', 'blessed', \"''\", '.', 'trading', 'card', 'games', 'turn', 'based', ',', 'GameState', 'Manager', 'fire', 'OnStageX', 'events', 'let', 'cards', 'modify', 'cards', 'GameState', 'whatever', 'way', 'card', 'needs', '.', 'try', 'create', 'DSL', ',', 'implement', 'rather', 'large', 'feature', 'set', 'possibly', 'constantly', 'update', ',', 'shifts', 'maintenance', 'work', 'another', 'part', 'without', 'actually', 'removing', '.', \"'s\", 'wanted', 'stay', '``', 'real', \"''\", '.NET', 'language', 'essentially', 'able', 'fire', 'event', 'let', 'card', 'manipulate', 'gamestate', 'whatever', 'way', '(', 'within', 'limits', 'code', 'access', 'security', ')', '.']\n",
            "\n",
            "The text after removal of urls is: ['Yes', 'thought', 'soon', 'figured', 'another', 'Domain-Specific-Language', 'DSL', 'would', 'bit', 'much', 'Essentially', 'need', 'interact', 'gamestate', 'possibly', 'unpredictable', 'ways', 'example', 'card', 'could', 'rule', '``', 'cards', 'enter', 'play', 'undead', 'minions', 'gain', '+3', 'attack', 'flying', 'enemies', 'except', 'enemy', 'blessed', \"''\", 'trading', 'card', 'games', 'turn', 'based', 'GameState', 'Manager', 'fire', 'OnStageX', 'events', 'let', 'cards', 'modify', 'cards', 'GameState', 'whatever', 'way', 'card', 'needs', 'try', 'create', 'DSL', 'implement', 'rather', 'large', 'feature', 'set', 'possibly', 'constantly', 'update', 'shifts', 'maintenance', 'work', 'another', 'part', 'without', 'actually', 'removing', \"'s\", 'wanted', 'stay', '``', 'real', \"''\", '.NET', 'language', 'essentially', 'able', 'fire', 'event', 'let', 'card', 'manipulate', 'gamestate', 'whatever', 'way', 'within', 'limits', 'code', 'access', 'security']\n",
            "\n",
            "\n",
            "\n",
            "\n",
            "\n",
            "This is Statement5: \n",
            "\n",
            "The original text is: <p>I would be a bit reluctant to use nested classes here.  What if you created an abstract base class for a \"multimedia driver\" to handle the back-end stuff (workhorse), and a separate class for the front-end work?  The front-end class could take a pointer/reference to an implemented driver class (for the appropriate media type and situation) and perform the abstract operations on the workhorse structure.</p>\n",
            "\n",
            "<p>My philosophy would be to go ahead and make both structures accessible to the client in a polished way, just under the assumption they would be used in tandem.</p>\n",
            "\n",
            "<p>I would reference something like a <a href=\"http://qt-project.org/doc/qt-4.8/qtextdocument.html\">QTextDocument</a> in Qt.  You provide a direct interface to the bare metal data handling, but pass the authority along to an object like a QTextEdit to do the manipulation.</p>\n",
            ".\n",
            "\n",
            "The text after removal of html code is: I would be a bit reluctant to use nested classes here.  What if you created an abstract base class for a \"multimedia driver\" to handle the back-end stuff (workhorse), and a separate class for the front-end work?  The front-end class could take a pointer/reference to an implemented driver class (for the appropriate media type and situation) and perform the abstract operations on the workhorse structure.\n",
            "\n",
            "My philosophy would be to go ahead and make both structures accessible to the client in a polished way, just under the assumption they would be used in tandem.\n",
            "\n",
            "I would reference something like a QTextDocument in Qt.  You provide a direct interface to the bare metal data handling, but pass the authority along to an object like a QTextEdit to do the manipulation.\n",
            "\n",
            "\n",
            "The text after removal of white spaces is: I would be a bit reluctant to use nested classes here.  What if you created an abstract base class for a \"multimedia driver\" to handle the back-end stuff (workhorse), and a separate class for the front-end work?  The front-end class could take a pointer/reference to an implemented driver class (for the appropriate media type and situation) and perform the abstract operations on the workhorse structure.\n",
            "\n",
            "My philosophy would be to go ahead and make both structures accessible to the client in a polished way, just under the assumption they would be used in tandem.\n",
            "\n",
            "I would reference something like a QTextDocument in Qt.  You provide a direct interface to the bare metal data handling, but pass the authority along to an object like a QTextEdit to do the manipulation.\n",
            "\n",
            "The text after removal of urls is: I would be a bit reluctant to use nested classes here.  What if you created an abstract base class for a \"multimedia driver\" to handle the back-end stuff (workhorse), and a separate class for the front-end work?  The front-end class could take a pointer/reference to an implemented driver class (for the appropriate media type and situation) and perform the abstract operations on the workhorse structure.\n",
            "\n",
            "My philosophy would be to go ahead and make both structures accessible to the client in a polished way, just under the assumption they would be used in tandem.\n",
            "\n",
            "I would reference something like a QTextDocument in Qt.  You provide a direct interface to the bare metal data handling, but pass the authority along to an object like a QTextEdit to do the manipulation.\n",
            "\n",
            "The text after removal of stop words is: ['would', 'bit', 'reluctant', 'use', 'nested', 'classes', '.', 'created', 'abstract', 'base', 'class', '``', 'multimedia', 'driver', \"''\", 'handle', 'back-end', 'stuff', '(', 'workhorse', ')', ',', 'separate', 'class', 'front-end', 'work', '?', 'front-end', 'class', 'could', 'take', 'pointer/reference', 'implemented', 'driver', 'class', '(', 'appropriate', 'media', 'type', 'situation', ')', 'perform', 'abstract', 'operations', 'workhorse', 'structure', '.', 'philosophy', 'would', 'go', 'ahead', 'make', 'structures', 'accessible', 'client', 'polished', 'way', ',', 'assumption', 'would', 'used', 'tandem', '.', 'would', 'reference', 'something', 'like', 'QTextDocument', 'Qt', '.', 'provide', 'direct', 'interface', 'bare', 'metal', 'data', 'handling', ',', 'pass', 'authority', 'along', 'object', 'like', 'QTextEdit', 'manipulation', '.']\n",
            "\n",
            "The text after removal of urls is: ['would', 'bit', 'reluctant', 'use', 'nested', 'classes', 'created', 'abstract', 'base', 'class', '``', 'multimedia', 'driver', \"''\", 'handle', 'back-end', 'stuff', 'workhorse', 'separate', 'class', 'front-end', 'work', 'front-end', 'class', 'could', 'take', 'pointer/reference', 'implemented', 'driver', 'class', 'appropriate', 'media', 'type', 'situation', 'perform', 'abstract', 'operations', 'workhorse', 'structure', 'philosophy', 'would', 'go', 'ahead', 'make', 'structures', 'accessible', 'client', 'polished', 'way', 'assumption', 'would', 'used', 'tandem', 'would', 'reference', 'something', 'like', 'QTextDocument', 'Qt', 'provide', 'direct', 'interface', 'bare', 'metal', 'data', 'handling', 'pass', 'authority', 'along', 'object', 'like', 'QTextEdit', 'manipulation']\n",
            "\n",
            "\n",
            "\n",
            "\n",
            "\n",
            "This is Statement6: \n",
            "\n",
            "The original text is: <p>You might be able to use IronRuby for that. </p>\r\n",
            "\r\n",
            "<p>Otherwise I'd suggest you have a directory where you place precompiled assemblies. Then you could have a reference in the DB to the assembly and class, and use reflection to load the proper assemblies at runtime.</p>\r\n",
            "\r\n",
            "<p>If you really want to compile at run-time you could use the CodeDOM, then you could use reflection to load the dynamic assembly. <a href=\"http://msdn.microsoft.com/en-us/library/microsoft.csharp.csharpcodeprovider.aspx\">MSDN article which might help</a>.</p>.\n",
            "\n",
            "The text after removal of html code is: You might be able to use IronRuby for that. \r\n",
            "\r\n",
            "Otherwise I'd suggest you have a directory where you place precompiled assemblies. Then you could have a reference in the DB to the assembly and class, and use reflection to load the proper assemblies at runtime.\r\n",
            "\r\n",
            "If you really want to compile at run-time you could use the CodeDOM, then you could use reflection to load the dynamic assembly. MSDN article which might help.\n",
            "\n",
            "The text after removal of white spaces is: You might be able to use IronRuby for that. \r\n",
            "\r\n",
            "Otherwise I'd suggest you have a directory where you place precompiled assemblies. Then you could have a reference in the DB to the assembly and class, and use reflection to load the proper assemblies at runtime.\r\n",
            "\r\n",
            "If you really want to compile at run-time you could use the CodeDOM, then you could use reflection to load the dynamic assembly. MSDN article which might help.\n",
            "\n",
            "The text after removal of urls is: You might be able to use IronRuby for that. \r\n",
            "\r\n",
            "Otherwise I'd suggest you have a directory where you place precompiled assemblies. Then you could have a reference in the DB to the assembly and class, and use reflection to load the proper assemblies at runtime.\r\n",
            "\r\n",
            "If you really want to compile at run-time you could use the CodeDOM, then you could use reflection to load the dynamic assembly. MSDN article which might help.\n",
            "\n",
            "The text after removal of stop words is: ['might', 'able', 'use', 'IronRuby', '.', 'Otherwise', \"'d\", 'suggest', 'directory', 'place', 'precompiled', 'assemblies', '.', 'could', 'reference', 'DB', 'assembly', 'class', ',', 'use', 'reflection', 'load', 'proper', 'assemblies', 'runtime', '.', 'really', 'want', 'compile', 'run-time', 'could', 'use', 'CodeDOM', ',', 'could', 'use', 'reflection', 'load', 'dynamic', 'assembly', '.', 'MSDN', 'article', 'might', 'help', '.']\n",
            "\n",
            "The text after removal of urls is: ['might', 'able', 'use', 'IronRuby', 'Otherwise', \"'d\", 'suggest', 'directory', 'place', 'precompiled', 'assemblies', 'could', 'reference', 'DB', 'assembly', 'class', 'use', 'reflection', 'load', 'proper', 'assemblies', 'runtime', 'really', 'want', 'compile', 'run-time', 'could', 'use', 'CodeDOM', 'could', 'use', 'reflection', 'load', 'dynamic', 'assembly', 'MSDN', 'article', 'might', 'help']\n",
            "\n",
            "\n",
            "\n",
            "\n",
            "\n",
            "This is Statement7: \n",
            "\n",
            "The original text is: <p>You could use any of the DLR languages, which provide a way to really easily host your own scripting platform.</p>.\n",
            "\n",
            "The text after removal of html code is: You could use any of the DLR languages, which provide a way to really easily host your own scripting platform.\n",
            "\n",
            "The text after removal of white spaces is: You could use any of the DLR languages, which provide a way to really easily host your own scripting platform.\n",
            "\n",
            "The text after removal of urls is: You could use any of the DLR languages, which provide a way to really easily host your own scripting platform.\n",
            "\n",
            "The text after removal of stop words is: ['could', 'use', 'DLR', 'languages', ',', 'provide', 'way', 'really', 'easily', 'host', 'scripting', 'platform', '.']\n",
            "\n",
            "The text after removal of urls is: ['could', 'use', 'DLR', 'languages', 'provide', 'way', 'really', 'easily', 'host', 'scripting', 'platform']\n",
            "\n",
            "\n",
            "\n",
            "\n",
            "\n",
            "This is Statement8: \n",
            "\n",
            "The original text is: <p>No, what you're doing is fine. Don't let those people confuse you.</p>\r\n",
            "\r\n",
            "<p>If you've written the web services with .net then the reference proxies generated by .net are going to be quite suitable. The situation you describe (where you are both producer and consumer) is the ideal situation.</p>\r\n",
            "\r\n",
            "<p>If you need to connect to a web services that is <em>unknown</em> at compile time, then you would want a more dynamic approach, where you deduce the 'shape' of the web service. </p>\r\n",
            "\r\n",
            "<p>But start by using the auto generated proxy class, and don't worry about it until you hit a limitation. And when you do -- come back to stack overflow ;-)</p>.\n",
            "\n",
            "The text after removal of html code is: No, what you're doing is fine. Don't let those people confuse you.\r\n",
            "\r\n",
            "If you've written the web services with .net then the reference proxies generated by .net are going to be quite suitable. The situation you describe (where you are both producer and consumer) is the ideal situation.\r\n",
            "\r\n",
            "If you need to connect to a web services that is unknown at compile time, then you would want a more dynamic approach, where you deduce the 'shape' of the web service. \r\n",
            "\r\n",
            "But start by using the auto generated proxy class, and don't worry about it until you hit a limitation. And when you do -- come back to stack overflow ;-)\n",
            "\n",
            "The text after removal of white spaces is: No, what you're doing is fine. Don't let those people confuse you.\r\n",
            "\r\n",
            "If you've written the web services with .net then the reference proxies generated by .net are going to be quite suitable. The situation you describe (where you are both producer and consumer) is the ideal situation.\r\n",
            "\r\n",
            "If you need to connect to a web services that is unknown at compile time, then you would want a more dynamic approach, where you deduce the 'shape' of the web service. \r\n",
            "\r\n",
            "But start by using the auto generated proxy class, and don't worry about it until you hit a limitation. And when you do -- come back to stack overflow ;-)\n",
            "\n",
            "The text after removal of urls is: No, what you're doing is fine. Don't let those people confuse you.\r\n",
            "\r\n",
            "If you've written the web services with .net then the reference proxies generated by .net are going to be quite suitable. The situation you describe (where you are both producer and consumer) is the ideal situation.\r\n",
            "\r\n",
            "If you need to connect to a web services that is unknown at compile time, then you would want a more dynamic approach, where you deduce the 'shape' of the web service. \r\n",
            "\r\n",
            "But start by using the auto generated proxy class, and don't worry about it until you hit a limitation. And when you do -- come back to stack overflow ;-)\n",
            "\n",
            "The text after removal of stop words is: [',', \"'re\", 'fine', '.', \"n't\", 'let', 'people', 'confuse', '.', \"'ve\", 'written', 'web', 'services', '.net', 'reference', 'proxies', 'generated', '.net', 'going', 'quite', 'suitable', '.', 'situation', 'describe', '(', 'producer', 'consumer', ')', 'ideal', 'situation', '.', 'need', 'connect', 'web', 'services', 'unknown', 'compile', 'time', ',', 'would', 'want', 'dynamic', 'approach', ',', 'deduce', \"'shape\", \"'\", 'web', 'service', '.', 'start', 'using', 'auto', 'generated', 'proxy', 'class', ',', \"n't\", 'worry', 'hit', 'limitation', '.', '--', 'come', 'back', 'stack', 'overflow', ';', '-', ')']\n",
            "\n",
            "The text after removal of urls is: [\"'re\", 'fine', \"n't\", 'let', 'people', 'confuse', \"'ve\", 'written', 'web', 'services', '.net', 'reference', 'proxies', 'generated', '.net', 'going', 'quite', 'suitable', 'situation', 'describe', 'producer', 'consumer', 'ideal', 'situation', 'need', 'connect', 'web', 'services', 'unknown', 'compile', 'time', 'would', 'want', 'dynamic', 'approach', 'deduce', \"'shape\", 'web', 'service', 'start', 'using', 'auto', 'generated', 'proxy', 'class', \"n't\", 'worry', 'hit', 'limitation', '--', 'come', 'back', 'stack', 'overflow']\n",
            "\n",
            "\n",
            "\n",
            "\n",
            "\n",
            "This is Statement9: \n",
            "\n",
            "The original text is: <p>Isn't it also a factor which order you set up the colors?</p>\r\n",
            "\r\n",
            "<p>Like if you use Dillie-Os idea you need to mix the colors as much as possible. \r\n",
            "0 64 128 256 is from one to the next. but 0 256 64 128 in a wheel would be more \"apart\"</p>\r\n",
            "\r\n",
            "<p>Does this make sense?</p>.\n",
            "\n",
            "The text after removal of html code is: Isn't it also a factor which order you set up the colors?\r\n",
            "\r\n",
            "Like if you use Dillie-Os idea you need to mix the colors as much as possible. \r\n",
            "0 64 128 256 is from one to the next. but 0 256 64 128 in a wheel would be more \"apart\"\r\n",
            "\r\n",
            "Does this make sense?\n",
            "\n",
            "The text after removal of white spaces is: Isn't it also a factor which order you set up the colors?\r\n",
            "\r\n",
            "Like if you use Dillie-Os idea you need to mix the colors as much as possible. \r\n",
            "0 64 128 256 is from one to the next. but 0 256 64 128 in a wheel would be more \"apart\"\r\n",
            "\r\n",
            "Does this make sense?\n",
            "\n",
            "The text after removal of urls is: Isn't it also a factor which order you set up the colors?\r\n",
            "\r\n",
            "Like if you use Dillie-Os idea you need to mix the colors as much as possible. \r\n",
            "0 64 128 256 is from one to the next. but 0 256 64 128 in a wheel would be more \"apart\"\r\n",
            "\r\n",
            "Does this make sense?\n",
            "\n",
            "The text after removal of stop words is: [\"n't\", 'also', 'factor', 'order', 'set', 'colors', '?', 'Like', 'use', 'Dillie-Os', 'idea', 'need', 'mix', 'colors', 'much', 'possible', '.', '0', '64', '128', '256', 'one', 'next', '.', '0', '256', '64', '128', 'wheel', 'would', '``', 'apart', \"''\", 'make', 'sense', '?']\n",
            "\n",
            "The text after removal of urls is: [\"n't\", 'also', 'factor', 'order', 'set', 'colors', 'Like', 'use', 'Dillie-Os', 'idea', 'need', 'mix', 'colors', 'much', 'possible', '0', '64', '128', '256', 'one', 'next', '0', '256', '64', '128', 'wheel', 'would', '``', 'apart', \"''\", 'make', 'sense']\n",
            "\n",
            "\n",
            "\n",
            "\n",
            "\n",
            "This is Statement10: \n",
            "\n",
            "The original text is: <p>My first thought on this is \"how generate N vectors in a space that maximize distance from each other.\" You can see that the RGB (or any other scale you use that forms a basis in color space) are just vectors. Take a look at <a href=\"http://mathworld.wolfram.com/topics/RandomPointPicking.html\">Random Point Picking</a>. Hope this is a good start for you! Once you have a set of vectors that are maximized a part, you can save them in a hash table or something for later, and just perform random rotations on them to get all the colors you desire that are maximally apart from each other!</p>\n",
            "\n",
            "<p><strong>Edit:</strong> Thinking about this problem more, it would be better to map the colors in a linear manor, possibly (0,0,0) --> (255,255,255) lexicographically, and then distribute them evenly. I really don't know how well this will work, but it should since, lets say:</p>\n",
            "\n",
            "<p>n = 10\n",
            "we know we have 16777216 colors (256^3). We can use <a href=\"http://stackoverflow.com/questions/561/using-combinations-of-sets-as-test-data#794\">buckles algorithm 515</a> to find the lexicographically indexed color.<img src=\"http://i.stack.imgur.com/gEuCs.gif\" alt=\"\\frac {\\binom {256^3} {3}} {n} * i\">. You'll probably have to edit the algorithm to avoid overflow and probably add some minor speed improvements.</p>\n",
            ".\n",
            "\n",
            "The text after removal of html code is: My first thought on this is \"how generate N vectors in a space that maximize distance from each other.\" You can see that the RGB (or any other scale you use that forms a basis in color space) are just vectors. Take a look at Random Point Picking. Hope this is a good start for you! Once you have a set of vectors that are maximized a part, you can save them in a hash table or something for later, and just perform random rotations on them to get all the colors you desire that are maximally apart from each other!\n",
            "\n",
            "Edit: Thinking about this problem more, it would be better to map the colors in a linear manor, possibly (0,0,0) --> (255,255,255) lexicographically, and then distribute them evenly. I really don't know how well this will work, but it should since, lets say:\n",
            "\n",
            "n = 10\n",
            "we know we have 16777216 colors (256^3). We can use buckles algorithm 515 to find the lexicographically indexed color.. You'll probably have to edit the algorithm to avoid overflow and probably add some minor speed improvements.\n",
            "\n",
            "\n",
            "The text after removal of white spaces is: My first thought on this is \"how generate N vectors in a space that maximize distance from each other.\" You can see that the RGB (or any other scale you use that forms a basis in color space) are just vectors. Take a look at Random Point Picking. Hope this is a good start for you! Once you have a set of vectors that are maximized a part, you can save them in a hash table or something for later, and just perform random rotations on them to get all the colors you desire that are maximally apart from each other!\n",
            "\n",
            "Edit: Thinking about this problem more, it would be better to map the colors in a linear manor, possibly (0,0,0) --> (255,255,255) lexicographically, and then distribute them evenly. I really don't know how well this will work, but it should since, lets say:\n",
            "\n",
            "n = 10\n",
            "we know we have 16777216 colors (256^3). We can use buckles algorithm 515 to find the lexicographically indexed color.. You'll probably have to edit the algorithm to avoid overflow and probably add some minor speed improvements.\n",
            "\n",
            "The text after removal of urls is: My first thought on this is \"how generate N vectors in a space that maximize distance from each other.\" You can see that the RGB (or any other scale you use that forms a basis in color space) are just vectors. Take a look at Random Point Picking. Hope this is a good start for you! Once you have a set of vectors that are maximized a part, you can save them in a hash table or something for later, and just perform random rotations on them to get all the colors you desire that are maximally apart from each other!\n",
            "\n",
            "Edit: Thinking about this problem more, it would be better to map the colors in a linear manor, possibly (0,0,0) --> (255,255,255) lexicographically, and then distribute them evenly. I really don't know how well this will work, but it should since, lets say:\n",
            "\n",
            "n = 10\n",
            "we know we have 16777216 colors (256^3). We can use buckles algorithm 515 to find the lexicographically indexed color.. You'll probably have to edit the algorithm to avoid overflow and probably add some minor speed improvements.\n",
            "\n",
            "The text after removal of stop words is: ['first', 'thought', '``', 'generate', 'N', 'vectors', 'space', 'maximize', 'distance', '.', \"''\", 'see', 'RGB', '(', 'scale', 'use', 'forms', 'basis', 'color', 'space', ')', 'vectors', '.', 'Take', 'look', 'Random', 'Point', 'Picking', '.', 'Hope', 'good', 'start', '!', 'set', 'vectors', 'maximized', 'part', ',', 'save', 'hash', 'table', 'something', 'later', ',', 'perform', 'random', 'rotations', 'get', 'colors', 'desire', 'maximally', 'apart', '!', 'Edit', ':', 'Thinking', 'problem', ',', 'would', 'better', 'map', 'colors', 'linear', 'manor', ',', 'possibly', '(', '0,0,0', ')', '--', '>', '(', '255,255,255', ')', 'lexicographically', ',', 'distribute', 'evenly', '.', 'really', \"n't\", 'know', 'well', 'work', ',', 'since', ',', 'lets', 'say', ':', 'n', '=', '10', 'know', '16777216', 'colors', '(', '256^3', ')', '.', 'use', 'buckles', 'algorithm', '515', 'find', 'lexicographically', 'indexed', 'color', '..', \"'ll\", 'probably', 'edit', 'algorithm', 'avoid', 'overflow', 'probably', 'add', 'minor', 'speed', 'improvements', '.']\n",
            "\n",
            "The text after removal of urls is: ['first', 'thought', '``', 'generate', 'N', 'vectors', 'space', 'maximize', 'distance', \"''\", 'see', 'RGB', 'scale', 'use', 'forms', 'basis', 'color', 'space', 'vectors', 'Take', 'look', 'Random', 'Point', 'Picking', 'Hope', 'good', 'start', 'set', 'vectors', 'maximized', 'part', 'save', 'hash', 'table', 'something', 'later', 'perform', 'random', 'rotations', 'get', 'colors', 'desire', 'maximally', 'apart', 'Edit', 'Thinking', 'problem', 'would', 'better', 'map', 'colors', 'linear', 'manor', 'possibly', '0,0,0', '--', '255,255,255', 'lexicographically', 'distribute', 'evenly', 'really', \"n't\", 'know', 'well', 'work', 'since', 'lets', 'say', 'n', '10', 'know', '16777216', 'colors', '256^3', 'use', 'buckles', 'algorithm', '515', 'find', 'lexicographically', 'indexed', 'color', '..', \"'ll\", 'probably', 'edit', 'algorithm', 'avoid', 'overflow', 'probably', 'add', 'minor', 'speed', 'improvements']\n",
            "\n",
            "\n",
            "\n",
            "\n",
            "\n"
          ]
        }
      ]
    },
    {
      "cell_type": "markdown",
      "source": [
        "**Postlab**"
      ],
      "metadata": {
        "id": "RdduY5kG4fwD"
      }
    },
    {
      "cell_type": "code",
      "source": [
        "import speech_recognition as sr import string\n",
        "\n",
        "recognizer = sr.Recognizer() audio_file = \"sample_audio.wav\"\n",
        "with sr.AudioFile(audio_file) as source: audio = recognizer.record(source)\n",
        "\n",
        "try:\n",
        "text = recognizer.recognize_google(audio) print(\"Extracted Text:\", text)\n",
        "text_with_punctuations = text + \" \" + string.punctuation print(\"Text with Punctuations:\", text_with_punctuations)\n",
        "\n",
        "except sr.UnknownValueError:\n",
        "print(\"Speech Recognition could not understand audio\") except sr.RequestError as e:\n",
        "print(f\"Could not request results from Google Speech Recognition service; {e}\")\n",
        "\n",
        "import re\n",
        "text = \"Check out this website: https://travelog.surge.sh.\"\n",
        "\n",
        "url_pattern = r'http[s]?://(?:[a-zA-Z]|[0-9]|[$-_@.&+]|[!*\\\\(\\\\),]|(?:%[0-9a- fA-F][0-9a-fA-F]))+'\n",
        "\n",
        "urls = re.findall(url_pattern, text) for url in urls:\n",
        "print(\"Extracted URL:\", url)\n"
      ],
      "metadata": {
        "id": "EnlyJCiB4jfN"
      },
      "execution_count": null,
      "outputs": []
    }
  ]
}